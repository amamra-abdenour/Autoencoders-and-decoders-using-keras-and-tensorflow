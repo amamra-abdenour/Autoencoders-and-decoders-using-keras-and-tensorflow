{
  "nbformat": 4,
  "nbformat_minor": 0,
  "metadata": {
    "colab": {
      "name": "Autoencoder_0.ipynb",
      "provenance": [],
      "collapsed_sections": [],
      "include_colab_link": true
    },
    "kernelspec": {
      "name": "python3",
      "display_name": "Python 3"
    },
    "accelerator": "GPU"
  },
  "cells": [
    {
      "cell_type": "markdown",
      "metadata": {
        "id": "view-in-github",
        "colab_type": "text"
      },
      "source": [
        "<a href=\"https://colab.research.google.com/github/amamra-abdenour/Autoencoders-and-decoders-using-keras-and-tensorflow/blob/master/Autoencoder_0.ipynb\" target=\"_parent\"><img src=\"https://colab.research.google.com/assets/colab-badge.svg\" alt=\"Open In Colab\"/></a>"
      ]
    },
    {
      "cell_type": "code",
      "metadata": {
        "id": "vKLLX-G9esgC",
        "colab_type": "code",
        "colab": {}
      },
      "source": [
        "import pandas as pd\n",
        "import numpy as np\n",
        "import matplotlib.pyplot as plt\n",
        "\n",
        "### Autoencoder ###\n",
        "import tensorflow as tf\n",
        "import tensorflow.keras\n",
        "\n",
        "from tensorflow.keras import models, layers\n",
        "from tensorflow.keras.models import Model, model_from_json\n",
        "\n",
        "from tensorflow.keras.layers import Dense, Dropout, Activation, Flatten, Conv2D, MaxPooling2D, UpSampling2D, Input\n",
        "\n",
        "from tensorflow.keras.datasets import mnist"
      ],
      "execution_count": 0,
      "outputs": []
    },
    {
      "cell_type": "code",
      "metadata": {
        "id": "eGzKTksPevex",
        "colab_type": "code",
        "colab": {}
      },
      "source": [
        "(X_train, _), (X_test, _) = mnist.load_data()\n",
        "shape_x = 28\n",
        "shape_y = 28\n",
        "\n",
        "X_train = X_train.astype('float32') / 255.\n",
        "X_test = X_test.astype('float32') / 255.\n",
        "\n",
        "X_train = X_train.reshape(-1,shape_x,shape_y,1)\n",
        "X_test = X_test.reshape(-1,shape_x,shape_y,1)\n",
        "\n",
        "input_img = Input(shape=(shape_x, shape_y, 1))"
      ],
      "execution_count": 0,
      "outputs": []
    },
    {
      "cell_type": "code",
      "metadata": {
        "id": "SQY5EQdIeyo_",
        "colab_type": "code",
        "colab": {}
      },
      "source": [
        "# Ecoding\n",
        "x = Conv2D(16, (3, 3), padding='same', activation='relu')(input_img)\n",
        "x = MaxPooling2D(pool_size=(2,2), padding='same')(x)\n",
        "x = Conv2D(1,(3, 3), padding='same', activation='relu')(x)\n",
        "encoded = MaxPooling2D(pool_size=(2,2), padding='same')(x)\n",
        "\n",
        "# Decoding\n",
        "x = Conv2D(1,(3, 3), padding='same', activation='relu')(encoded)\n",
        "x = UpSampling2D((2, 2))(x)\n",
        "x = Conv2D(16,(3, 3), padding='same', activation='relu')(x)\n",
        "x = UpSampling2D((2, 2))(x)\n",
        "x = Conv2D(1,(3, 3), padding='same')(x)\n",
        "\n",
        "decoded = Activation('linear')(x)\n",
        "\n",
        "autoencoder = Model(input_img, decoded)\n",
        "autoencoder.compile(optimizer='adadelta', loss='mean_squared_error')\n",
        "\n",
        "  "
      ],
      "execution_count": 0,
      "outputs": []
    },
    {
      "cell_type": "code",
      "metadata": {
        "id": "LqImAtMTf_hx",
        "colab_type": "code",
        "colab": {
          "base_uri": "https://localhost:8080/",
          "height": 521
        },
        "outputId": "45872421-8e8d-4941-ea32-fc504d5f7651"
      },
      "source": [
        "from tensorflow.keras.models import model_from_json\n",
        "from tensorflow.keras.models import load_model\n",
        "\n",
        "# Returns a compiled model identical to the previous one\n",
        "autoencoder = load_model('autoencoder.h5')\n",
        "autoencoder.summary()"
      ],
      "execution_count": 46,
      "outputs": [
        {
          "output_type": "stream",
          "text": [
            "Model: \"model\"\n",
            "_________________________________________________________________\n",
            "Layer (type)                 Output Shape              Param #   \n",
            "=================================================================\n",
            "input_1 (InputLayer)         [(None, 28, 28, 1)]       0         \n",
            "_________________________________________________________________\n",
            "conv2d (Conv2D)              (None, 28, 28, 16)        160       \n",
            "_________________________________________________________________\n",
            "max_pooling2d (MaxPooling2D) (None, 14, 14, 16)        0         \n",
            "_________________________________________________________________\n",
            "conv2d_1 (Conv2D)            (None, 14, 14, 1)         145       \n",
            "_________________________________________________________________\n",
            "max_pooling2d_1 (MaxPooling2 (None, 7, 7, 1)           0         \n",
            "_________________________________________________________________\n",
            "conv2d_2 (Conv2D)            (None, 7, 7, 1)           10        \n",
            "_________________________________________________________________\n",
            "up_sampling2d (UpSampling2D) (None, 14, 14, 1)         0         \n",
            "_________________________________________________________________\n",
            "conv2d_3 (Conv2D)            (None, 14, 14, 16)        160       \n",
            "_________________________________________________________________\n",
            "up_sampling2d_1 (UpSampling2 (None, 28, 28, 16)        0         \n",
            "_________________________________________________________________\n",
            "conv2d_4 (Conv2D)            (None, 28, 28, 1)         145       \n",
            "_________________________________________________________________\n",
            "activation (Activation)      (None, 28, 28, 1)         0         \n",
            "=================================================================\n",
            "Total params: 620\n",
            "Trainable params: 620\n",
            "Non-trainable params: 0\n",
            "_________________________________________________________________\n"
          ],
          "name": "stdout"
        }
      ]
    },
    {
      "cell_type": "code",
      "metadata": {
        "id": "AJ9wtpZmsuXv",
        "colab_type": "code",
        "colab": {
          "base_uri": "https://localhost:8080/",
          "height": 67
        },
        "outputId": "5135c3f5-d415-46ca-b099-57bff903d93d"
      },
      "source": [
        "import tensorflow as tf\n",
        "import keras\n",
        "print(tf.__version__)\n",
        "print(keras.__version__)\n"
      ],
      "execution_count": 6,
      "outputs": [
        {
          "output_type": "stream",
          "text": [
            "2.0.0\n",
            "2.2.5\n"
          ],
          "name": "stdout"
        },
        {
          "output_type": "stream",
          "text": [
            "Using TensorFlow backend.\n"
          ],
          "name": "stderr"
        }
      ]
    },
    {
      "cell_type": "code",
      "metadata": {
        "id": "ILLkUHG1vQLM",
        "colab_type": "code",
        "colab": {
          "base_uri": "https://localhost:8080/",
          "height": 542
        },
        "outputId": "eb48e4fa-35e5-4a1a-ec58-8b8b70af6b24"
      },
      "source": [
        "!pip install --upgrade tensorflow-gpu"
      ],
      "execution_count": 13,
      "outputs": [
        {
          "output_type": "stream",
          "text": [
            "Collecting tensorflow-gpu\n",
            "\u001b[?25l  Downloading https://files.pythonhosted.org/packages/25/44/47f0722aea081697143fbcf5d2aa60d1aee4aaacb5869aee2b568974777b/tensorflow_gpu-2.0.0-cp36-cp36m-manylinux2010_x86_64.whl (380.8MB)\n",
            "\u001b[K     |████████████████████████████████| 380.8MB 69kB/s \n",
            "\u001b[?25hRequirement already satisfied, skipping upgrade: numpy<2.0,>=1.16.0 in /usr/local/lib/python3.6/dist-packages (from tensorflow-gpu) (1.16.5)\n",
            "Requirement already satisfied, skipping upgrade: termcolor>=1.1.0 in /usr/local/lib/python3.6/dist-packages (from tensorflow-gpu) (1.1.0)\n",
            "Requirement already satisfied, skipping upgrade: grpcio>=1.8.6 in /usr/local/lib/python3.6/dist-packages (from tensorflow-gpu) (1.15.0)\n",
            "Requirement already satisfied, skipping upgrade: astor>=0.6.0 in /usr/local/lib/python3.6/dist-packages (from tensorflow-gpu) (0.8.0)\n",
            "Requirement already satisfied, skipping upgrade: gast==0.2.2 in /usr/local/lib/python3.6/dist-packages (from tensorflow-gpu) (0.2.2)\n",
            "Requirement already satisfied, skipping upgrade: keras-preprocessing>=1.0.5 in /usr/local/lib/python3.6/dist-packages (from tensorflow-gpu) (1.1.0)\n",
            "Requirement already satisfied, skipping upgrade: opt-einsum>=2.3.2 in /usr/local/lib/python3.6/dist-packages (from tensorflow-gpu) (3.1.0)\n",
            "Requirement already satisfied, skipping upgrade: wheel>=0.26 in /usr/local/lib/python3.6/dist-packages (from tensorflow-gpu) (0.33.6)\n",
            "Requirement already satisfied, skipping upgrade: keras-applications>=1.0.8 in /usr/local/lib/python3.6/dist-packages (from tensorflow-gpu) (1.0.8)\n",
            "Requirement already satisfied, skipping upgrade: tensorflow-estimator<2.1.0,>=2.0.0 in /usr/local/lib/python3.6/dist-packages (from tensorflow-gpu) (2.0.0)\n",
            "Requirement already satisfied, skipping upgrade: protobuf>=3.6.1 in /usr/local/lib/python3.6/dist-packages (from tensorflow-gpu) (3.7.1)\n",
            "Requirement already satisfied, skipping upgrade: google-pasta>=0.1.6 in /usr/local/lib/python3.6/dist-packages (from tensorflow-gpu) (0.1.7)\n",
            "Requirement already satisfied, skipping upgrade: tensorboard<2.1.0,>=2.0.0 in /usr/local/lib/python3.6/dist-packages (from tensorflow-gpu) (2.0.0)\n",
            "Requirement already satisfied, skipping upgrade: six>=1.10.0 in /usr/local/lib/python3.6/dist-packages (from tensorflow-gpu) (1.12.0)\n",
            "Requirement already satisfied, skipping upgrade: absl-py>=0.7.0 in /usr/local/lib/python3.6/dist-packages (from tensorflow-gpu) (0.8.0)\n",
            "Requirement already satisfied, skipping upgrade: wrapt>=1.11.1 in /usr/local/lib/python3.6/dist-packages (from tensorflow-gpu) (1.11.2)\n",
            "Requirement already satisfied, skipping upgrade: h5py in /usr/local/lib/python3.6/dist-packages (from keras-applications>=1.0.8->tensorflow-gpu) (2.8.0)\n",
            "Requirement already satisfied, skipping upgrade: setuptools in /usr/local/lib/python3.6/dist-packages (from protobuf>=3.6.1->tensorflow-gpu) (41.2.0)\n",
            "Requirement already satisfied, skipping upgrade: werkzeug>=0.11.15 in /usr/local/lib/python3.6/dist-packages (from tensorboard<2.1.0,>=2.0.0->tensorflow-gpu) (0.16.0)\n",
            "Requirement already satisfied, skipping upgrade: markdown>=2.6.8 in /usr/local/lib/python3.6/dist-packages (from tensorboard<2.1.0,>=2.0.0->tensorflow-gpu) (3.1.1)\n",
            "Installing collected packages: tensorflow-gpu\n",
            "Successfully installed tensorflow-gpu-2.0.0\n"
          ],
          "name": "stdout"
        },
        {
          "output_type": "display_data",
          "data": {
            "application/vnd.colab-display-data+json": {
              "pip_warning": {
                "packages": [
                  "tensorflow",
                  "tensorflow_core"
                ]
              }
            }
          },
          "metadata": {
            "tags": []
          }
        }
      ]
    },
    {
      "cell_type": "code",
      "metadata": {
        "id": "6porx092e2FH",
        "colab_type": "code",
        "colab": {
          "base_uri": "https://localhost:8080/",
          "height": 1000
        },
        "outputId": "319953a4-a1bc-449c-e1ef-af1582c2f60e"
      },
      "source": [
        "autoencoder.fit(X_train, X_train, epochs = 100, batch_size = 64, validation_split = 0.1)"
      ],
      "execution_count": 53,
      "outputs": [
        {
          "output_type": "stream",
          "text": [
            "Train on 54000 samples, validate on 6000 samples\n",
            "Epoch 1/100\n",
            "54000/54000 [==============================] - 7s 137us/sample - loss: 0.0333 - val_loss: 0.0338\n",
            "Epoch 2/100\n",
            "54000/54000 [==============================] - 7s 138us/sample - loss: 0.0333 - val_loss: 0.0337\n",
            "Epoch 3/100\n",
            "54000/54000 [==============================] - 8s 139us/sample - loss: 0.0333 - val_loss: 0.0337\n",
            "Epoch 4/100\n",
            "54000/54000 [==============================] - 7s 137us/sample - loss: 0.0333 - val_loss: 0.0337\n",
            "Epoch 5/100\n",
            "54000/54000 [==============================] - 8s 139us/sample - loss: 0.0332 - val_loss: 0.0337\n",
            "Epoch 6/100\n",
            "54000/54000 [==============================] - 8s 140us/sample - loss: 0.0332 - val_loss: 0.0337\n",
            "Epoch 7/100\n",
            "54000/54000 [==============================] - 8s 144us/sample - loss: 0.0332 - val_loss: 0.0336\n",
            "Epoch 8/100\n",
            "54000/54000 [==============================] - 7s 134us/sample - loss: 0.0332 - val_loss: 0.0336\n",
            "Epoch 9/100\n",
            "54000/54000 [==============================] - 7s 131us/sample - loss: 0.0332 - val_loss: 0.0336\n",
            "Epoch 10/100\n",
            "54000/54000 [==============================] - 7s 129us/sample - loss: 0.0331 - val_loss: 0.0336\n",
            "Epoch 11/100\n",
            "54000/54000 [==============================] - 7s 133us/sample - loss: 0.0331 - val_loss: 0.0336\n",
            "Epoch 12/100\n",
            "54000/54000 [==============================] - 7s 135us/sample - loss: 0.0331 - val_loss: 0.0335\n",
            "Epoch 13/100\n",
            "54000/54000 [==============================] - 7s 133us/sample - loss: 0.0331 - val_loss: 0.0335\n",
            "Epoch 14/100\n",
            "54000/54000 [==============================] - 7s 133us/sample - loss: 0.0331 - val_loss: 0.0335\n",
            "Epoch 15/100\n",
            "54000/54000 [==============================] - 7s 136us/sample - loss: 0.0331 - val_loss: 0.0335\n",
            "Epoch 16/100\n",
            "54000/54000 [==============================] - 7s 136us/sample - loss: 0.0330 - val_loss: 0.0335\n",
            "Epoch 17/100\n",
            "54000/54000 [==============================] - 7s 135us/sample - loss: 0.0330 - val_loss: 0.0335\n",
            "Epoch 18/100\n",
            "54000/54000 [==============================] - 7s 135us/sample - loss: 0.0330 - val_loss: 0.0334\n",
            "Epoch 19/100\n",
            "54000/54000 [==============================] - 7s 135us/sample - loss: 0.0330 - val_loss: 0.0334\n",
            "Epoch 20/100\n",
            "54000/54000 [==============================] - 7s 135us/sample - loss: 0.0330 - val_loss: 0.0334\n",
            "Epoch 21/100\n",
            "54000/54000 [==============================] - 7s 133us/sample - loss: 0.0329 - val_loss: 0.0334\n",
            "Epoch 22/100\n",
            "54000/54000 [==============================] - 7s 133us/sample - loss: 0.0329 - val_loss: 0.0334\n",
            "Epoch 23/100\n",
            "54000/54000 [==============================] - 7s 134us/sample - loss: 0.0329 - val_loss: 0.0333\n",
            "Epoch 24/100\n",
            "54000/54000 [==============================] - 7s 133us/sample - loss: 0.0329 - val_loss: 0.0333\n",
            "Epoch 25/100\n",
            "54000/54000 [==============================] - 7s 134us/sample - loss: 0.0329 - val_loss: 0.0333\n",
            "Epoch 26/100\n",
            "54000/54000 [==============================] - 7s 133us/sample - loss: 0.0328 - val_loss: 0.0333\n",
            "Epoch 27/100\n",
            "54000/54000 [==============================] - 7s 133us/sample - loss: 0.0328 - val_loss: 0.0333\n",
            "Epoch 28/100\n",
            "54000/54000 [==============================] - 7s 135us/sample - loss: 0.0328 - val_loss: 0.0332\n",
            "Epoch 29/100\n",
            "54000/54000 [==============================] - 7s 137us/sample - loss: 0.0328 - val_loss: 0.0332\n",
            "Epoch 30/100\n",
            "54000/54000 [==============================] - 7s 133us/sample - loss: 0.0328 - val_loss: 0.0332\n",
            "Epoch 31/100\n",
            "54000/54000 [==============================] - 7s 134us/sample - loss: 0.0327 - val_loss: 0.0332\n",
            "Epoch 32/100\n",
            "54000/54000 [==============================] - 7s 130us/sample - loss: 0.0327 - val_loss: 0.0332\n",
            "Epoch 33/100\n",
            "54000/54000 [==============================] - 7s 128us/sample - loss: 0.0327 - val_loss: 0.0331\n",
            "Epoch 34/100\n",
            "54000/54000 [==============================] - 7s 127us/sample - loss: 0.0327 - val_loss: 0.0331\n",
            "Epoch 35/100\n",
            "54000/54000 [==============================] - 7s 127us/sample - loss: 0.0327 - val_loss: 0.0331\n",
            "Epoch 36/100\n",
            "54000/54000 [==============================] - 7s 126us/sample - loss: 0.0327 - val_loss: 0.0331\n",
            "Epoch 37/100\n",
            "54000/54000 [==============================] - 7s 127us/sample - loss: 0.0326 - val_loss: 0.0331\n",
            "Epoch 38/100\n",
            "54000/54000 [==============================] - 7s 126us/sample - loss: 0.0326 - val_loss: 0.0331\n",
            "Epoch 39/100\n",
            "54000/54000 [==============================] - 7s 126us/sample - loss: 0.0326 - val_loss: 0.0330\n",
            "Epoch 40/100\n",
            "54000/54000 [==============================] - 7s 126us/sample - loss: 0.0326 - val_loss: 0.0330\n",
            "Epoch 41/100\n",
            "54000/54000 [==============================] - 7s 125us/sample - loss: 0.0326 - val_loss: 0.0330\n",
            "Epoch 42/100\n",
            "54000/54000 [==============================] - 7s 125us/sample - loss: 0.0325 - val_loss: 0.0330\n",
            "Epoch 43/100\n",
            "54000/54000 [==============================] - 7s 125us/sample - loss: 0.0325 - val_loss: 0.0330\n",
            "Epoch 44/100\n",
            "54000/54000 [==============================] - 7s 125us/sample - loss: 0.0325 - val_loss: 0.0329\n",
            "Epoch 45/100\n",
            "54000/54000 [==============================] - 7s 125us/sample - loss: 0.0325 - val_loss: 0.0329\n",
            "Epoch 46/100\n",
            "54000/54000 [==============================] - 7s 127us/sample - loss: 0.0325 - val_loss: 0.0329\n",
            "Epoch 47/100\n",
            "54000/54000 [==============================] - 7s 126us/sample - loss: 0.0324 - val_loss: 0.0329\n",
            "Epoch 48/100\n",
            "54000/54000 [==============================] - 7s 127us/sample - loss: 0.0324 - val_loss: 0.0329\n",
            "Epoch 49/100\n",
            "54000/54000 [==============================] - 7s 128us/sample - loss: 0.0324 - val_loss: 0.0329\n",
            "Epoch 50/100\n",
            "54000/54000 [==============================] - 7s 131us/sample - loss: 0.0324 - val_loss: 0.0328\n",
            "Epoch 51/100\n",
            "54000/54000 [==============================] - 7s 126us/sample - loss: 0.0324 - val_loss: 0.0328\n",
            "Epoch 52/100\n",
            "54000/54000 [==============================] - 7s 127us/sample - loss: 0.0324 - val_loss: 0.0328\n",
            "Epoch 53/100\n",
            "54000/54000 [==============================] - 7s 127us/sample - loss: 0.0323 - val_loss: 0.0328\n",
            "Epoch 54/100\n",
            "54000/54000 [==============================] - 7s 128us/sample - loss: 0.0323 - val_loss: 0.0328\n",
            "Epoch 55/100\n",
            "54000/54000 [==============================] - 7s 127us/sample - loss: 0.0323 - val_loss: 0.0327\n",
            "Epoch 56/100\n",
            "54000/54000 [==============================] - 7s 127us/sample - loss: 0.0323 - val_loss: 0.0327\n",
            "Epoch 57/100\n",
            "54000/54000 [==============================] - 7s 129us/sample - loss: 0.0323 - val_loss: 0.0327\n",
            "Epoch 58/100\n",
            "54000/54000 [==============================] - 7s 128us/sample - loss: 0.0322 - val_loss: 0.0327\n",
            "Epoch 59/100\n",
            "54000/54000 [==============================] - 7s 127us/sample - loss: 0.0322 - val_loss: 0.0327\n",
            "Epoch 60/100\n",
            "54000/54000 [==============================] - 7s 126us/sample - loss: 0.0322 - val_loss: 0.0327\n",
            "Epoch 61/100\n",
            "54000/54000 [==============================] - 7s 127us/sample - loss: 0.0322 - val_loss: 0.0326\n",
            "Epoch 62/100\n",
            "54000/54000 [==============================] - 7s 129us/sample - loss: 0.0322 - val_loss: 0.0326\n",
            "Epoch 63/100\n",
            "54000/54000 [==============================] - 7s 128us/sample - loss: 0.0322 - val_loss: 0.0326\n",
            "Epoch 64/100\n",
            "54000/54000 [==============================] - 7s 129us/sample - loss: 0.0321 - val_loss: 0.0326\n",
            "Epoch 65/100\n",
            "54000/54000 [==============================] - 7s 127us/sample - loss: 0.0321 - val_loss: 0.0326\n",
            "Epoch 66/100\n",
            "54000/54000 [==============================] - 7s 127us/sample - loss: 0.0321 - val_loss: 0.0325\n",
            "Epoch 67/100\n",
            "54000/54000 [==============================] - 7s 127us/sample - loss: 0.0321 - val_loss: 0.0325\n",
            "Epoch 68/100\n",
            "54000/54000 [==============================] - 7s 128us/sample - loss: 0.0321 - val_loss: 0.0325\n",
            "Epoch 69/100\n",
            "54000/54000 [==============================] - 7s 127us/sample - loss: 0.0320 - val_loss: 0.0325\n",
            "Epoch 70/100\n",
            "54000/54000 [==============================] - 7s 127us/sample - loss: 0.0320 - val_loss: 0.0325\n",
            "Epoch 71/100\n",
            "54000/54000 [==============================] - 7s 125us/sample - loss: 0.0320 - val_loss: 0.0325\n",
            "Epoch 72/100\n",
            "54000/54000 [==============================] - 7s 127us/sample - loss: 0.0320 - val_loss: 0.0324\n",
            "Epoch 73/100\n",
            "54000/54000 [==============================] - 7s 129us/sample - loss: 0.0320 - val_loss: 0.0324\n",
            "Epoch 74/100\n",
            "54000/54000 [==============================] - 7s 131us/sample - loss: 0.0320 - val_loss: 0.0324\n",
            "Epoch 75/100\n",
            "54000/54000 [==============================] - 7s 127us/sample - loss: 0.0319 - val_loss: 0.0324\n",
            "Epoch 76/100\n",
            "54000/54000 [==============================] - 7s 127us/sample - loss: 0.0319 - val_loss: 0.0324\n",
            "Epoch 77/100\n",
            "54000/54000 [==============================] - 7s 125us/sample - loss: 0.0319 - val_loss: 0.0323\n",
            "Epoch 78/100\n",
            "54000/54000 [==============================] - 7s 127us/sample - loss: 0.0319 - val_loss: 0.0323\n",
            "Epoch 79/100\n",
            "54000/54000 [==============================] - 7s 129us/sample - loss: 0.0319 - val_loss: 0.0323\n",
            "Epoch 80/100\n",
            "54000/54000 [==============================] - 7s 128us/sample - loss: 0.0319 - val_loss: 0.0323\n",
            "Epoch 81/100\n",
            "54000/54000 [==============================] - 7s 127us/sample - loss: 0.0318 - val_loss: 0.0323\n",
            "Epoch 82/100\n",
            "54000/54000 [==============================] - 7s 127us/sample - loss: 0.0318 - val_loss: 0.0323\n",
            "Epoch 83/100\n",
            "54000/54000 [==============================] - 7s 127us/sample - loss: 0.0318 - val_loss: 0.0322\n",
            "Epoch 84/100\n",
            "54000/54000 [==============================] - 7s 126us/sample - loss: 0.0318 - val_loss: 0.0322\n",
            "Epoch 85/100\n",
            "54000/54000 [==============================] - 7s 127us/sample - loss: 0.0318 - val_loss: 0.0322\n",
            "Epoch 86/100\n",
            "54000/54000 [==============================] - 7s 128us/sample - loss: 0.0317 - val_loss: 0.0322\n",
            "Epoch 87/100\n",
            "54000/54000 [==============================] - 7s 127us/sample - loss: 0.0317 - val_loss: 0.0322\n",
            "Epoch 88/100\n",
            "54000/54000 [==============================] - 7s 128us/sample - loss: 0.0317 - val_loss: 0.0322\n",
            "Epoch 89/100\n",
            "54000/54000 [==============================] - 7s 128us/sample - loss: 0.0317 - val_loss: 0.0321\n",
            "Epoch 90/100\n",
            "54000/54000 [==============================] - 7s 128us/sample - loss: 0.0317 - val_loss: 0.0321\n",
            "Epoch 91/100\n",
            "54000/54000 [==============================] - 7s 127us/sample - loss: 0.0317 - val_loss: 0.0321\n",
            "Epoch 92/100\n",
            "54000/54000 [==============================] - 7s 127us/sample - loss: 0.0316 - val_loss: 0.0321\n",
            "Epoch 93/100\n",
            "54000/54000 [==============================] - 7s 127us/sample - loss: 0.0316 - val_loss: 0.0321\n",
            "Epoch 94/100\n",
            "54000/54000 [==============================] - 7s 130us/sample - loss: 0.0316 - val_loss: 0.0320\n",
            "Epoch 95/100\n",
            "54000/54000 [==============================] - 7s 129us/sample - loss: 0.0316 - val_loss: 0.0320\n",
            "Epoch 96/100\n",
            "54000/54000 [==============================] - 7s 127us/sample - loss: 0.0316 - val_loss: 0.0320\n",
            "Epoch 97/100\n",
            "54000/54000 [==============================] - 7s 126us/sample - loss: 0.0316 - val_loss: 0.0320\n",
            "Epoch 98/100\n",
            "54000/54000 [==============================] - 7s 127us/sample - loss: 0.0315 - val_loss: 0.0320\n",
            "Epoch 99/100\n",
            "54000/54000 [==============================] - 7s 127us/sample - loss: 0.0315 - val_loss: 0.0320\n",
            "Epoch 100/100\n",
            "54000/54000 [==============================] - 7s 126us/sample - loss: 0.0315 - val_loss: 0.0319\n"
          ],
          "name": "stdout"
        },
        {
          "output_type": "execute_result",
          "data": {
            "text/plain": [
              "<tensorflow.python.keras.callbacks.History at 0x7f4adc0104e0>"
            ]
          },
          "metadata": {
            "tags": []
          },
          "execution_count": 53
        }
      ]
    },
    {
      "cell_type": "code",
      "metadata": {
        "id": "IRMtkaZwe4bX",
        "colab_type": "code",
        "colab": {}
      },
      "source": [
        "# Creates a HDF5 file 'my_model.h5'\n",
        "autoencoder.save('autoencoder.h5')\n"
      ],
      "execution_count": 0,
      "outputs": []
    },
    {
      "cell_type": "code",
      "metadata": {
        "id": "VBfG8HW3e6RH",
        "colab_type": "code",
        "colab": {}
      },
      "source": [
        "encoder = Model(inputs = input_img, outputs = encoded)"
      ],
      "execution_count": 0,
      "outputs": []
    },
    {
      "cell_type": "code",
      "metadata": {
        "id": "LXDJb9T4e71I",
        "colab_type": "code",
        "colab": {}
      },
      "source": [
        "X_train_enc = encoder.predict(X_train)"
      ],
      "execution_count": 0,
      "outputs": []
    },
    {
      "cell_type": "code",
      "metadata": {
        "id": "49isPkOse-2Y",
        "colab_type": "code",
        "colab": {}
      },
      "source": [
        "encoded_imgs = encoder.predict(X_test)\n",
        "decoded_imgs = autoencoder.predict(X_test)"
      ],
      "execution_count": 0,
      "outputs": []
    },
    {
      "cell_type": "code",
      "metadata": {
        "id": "vxQGgEDCe_cA",
        "colab_type": "code",
        "colab": {
          "base_uri": "https://localhost:8080/",
          "height": 251
        },
        "outputId": "520c9f7d-fb32-4d3d-852c-aa5988847c33"
      },
      "source": [
        "n = 20  \n",
        "plt.figure(figsize=(20, 4))\n",
        "\n",
        "for i in range(n):\n",
        "    # display original\n",
        "    ax = plt.subplot(3, n, i + 1)\n",
        "    plt.imshow(X_test[i].reshape(28, 28))\n",
        "    plt.gray()\n",
        "    ax.get_xaxis().set_visible(False)\n",
        "    ax.get_yaxis().set_visible(False)\n",
        "\n",
        "    # Encoded images\n",
        "    ax = plt.subplot(3, n, i + 1 + n)\n",
        "    plt.imshow(encoded_imgs[i].reshape(7, 7))\n",
        "    plt.gray()\n",
        "    ax.get_xaxis().set_visible(False)\n",
        "    ax.get_yaxis().set_visible(False)\n",
        "    \n",
        "    # display reconstruction\n",
        "    ax = plt.subplot(3, n, i + 1 + 2*n)\n",
        "    plt.imshow(decoded_imgs[i].reshape(28, 28))\n",
        "    plt.gray()\n",
        "    ax.get_xaxis().set_visible(False)\n",
        "    ax.get_yaxis().set_visible(False)\n",
        "\n",
        "plt.show()"
      ],
      "execution_count": 58,
      "outputs": [
        {
          "output_type": "display_data",
          "data": {
            "image/png": "[encoded data removed]",
            "text/plain": [
              "<Figure size 1440x288 with 60 Axes>"
            ]
          },
          "metadata": {
            "tags": []
          }
        }
      ]
    }
  ]
}